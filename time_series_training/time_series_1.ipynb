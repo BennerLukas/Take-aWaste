{
 "cells": [
  {
   "cell_type": "code",
   "execution_count": 5,
   "metadata": {},
   "outputs": [],
   "source": [
    "## For data\n",
    "import pandas as pd\n",
    "import numpy as np\n",
    "## For plotting\n",
    "import matplotlib.pyplot as plt\n",
    "## For outliers detection\n",
    "from sklearn import preprocessing, svm\n",
    "## For stationarity test and decomposition\n",
    "import statsmodels.tsa.api as smt\n",
    "import statsmodels.api as sm"
   ]
  },
  {
   "cell_type": "code",
   "execution_count": 8,
   "metadata": {},
   "outputs": [
    {
     "data": {
      "text/html": [
       "<div>\n",
       "<style scoped>\n",
       "    .dataframe tbody tr th:only-of-type {\n",
       "        vertical-align: middle;\n",
       "    }\n",
       "\n",
       "    .dataframe tbody tr th {\n",
       "        vertical-align: top;\n",
       "    }\n",
       "\n",
       "    .dataframe thead th {\n",
       "        text-align: right;\n",
       "    }\n",
       "</style>\n",
       "<table border=\"1\" class=\"dataframe\">\n",
       "  <thead>\n",
       "    <tr style=\"text-align: right;\">\n",
       "      <th></th>\n",
       "      <th>Order Number</th>\n",
       "      <th>Order Date</th>\n",
       "      <th>Item Name</th>\n",
       "      <th>Quantity</th>\n",
       "      <th>Product Price</th>\n",
       "      <th>Total products</th>\n",
       "    </tr>\n",
       "  </thead>\n",
       "  <tbody>\n",
       "    <tr>\n",
       "      <th>0</th>\n",
       "      <td>16118</td>\n",
       "      <td>03/08/2019 20:25</td>\n",
       "      <td>Plain Papadum</td>\n",
       "      <td>2</td>\n",
       "      <td>0.80</td>\n",
       "      <td>6</td>\n",
       "    </tr>\n",
       "    <tr>\n",
       "      <th>1</th>\n",
       "      <td>16118</td>\n",
       "      <td>03/08/2019 20:25</td>\n",
       "      <td>King Prawn Balti</td>\n",
       "      <td>1</td>\n",
       "      <td>12.95</td>\n",
       "      <td>6</td>\n",
       "    </tr>\n",
       "    <tr>\n",
       "      <th>2</th>\n",
       "      <td>16118</td>\n",
       "      <td>03/08/2019 20:25</td>\n",
       "      <td>Garlic Naan</td>\n",
       "      <td>1</td>\n",
       "      <td>2.95</td>\n",
       "      <td>6</td>\n",
       "    </tr>\n",
       "    <tr>\n",
       "      <th>3</th>\n",
       "      <td>16118</td>\n",
       "      <td>03/08/2019 20:25</td>\n",
       "      <td>Mushroom Rice</td>\n",
       "      <td>1</td>\n",
       "      <td>3.95</td>\n",
       "      <td>6</td>\n",
       "    </tr>\n",
       "    <tr>\n",
       "      <th>4</th>\n",
       "      <td>16118</td>\n",
       "      <td>03/08/2019 20:25</td>\n",
       "      <td>Paneer Tikka Masala</td>\n",
       "      <td>1</td>\n",
       "      <td>8.95</td>\n",
       "      <td>6</td>\n",
       "    </tr>\n",
       "  </tbody>\n",
       "</table>\n",
       "</div>"
      ],
      "text/plain": [
       "   Order Number        Order Date            Item Name  Quantity  \\\n",
       "0         16118  03/08/2019 20:25        Plain Papadum         2   \n",
       "1         16118  03/08/2019 20:25     King Prawn Balti         1   \n",
       "2         16118  03/08/2019 20:25          Garlic Naan         1   \n",
       "3         16118  03/08/2019 20:25        Mushroom Rice         1   \n",
       "4         16118  03/08/2019 20:25  Paneer Tikka Masala         1   \n",
       "\n",
       "   Product Price  Total products  \n",
       "0           0.80               6  \n",
       "1          12.95               6  \n",
       "2           2.95               6  \n",
       "3           3.95               6  \n",
       "4           8.95               6  "
      ]
     },
     "execution_count": 8,
     "metadata": {},
     "output_type": "execute_result"
    }
   ],
   "source": [
    "data = pd.read_csv(\"restaurant-1-orders.csv\")\n",
    "data.head()"
   ]
  },
  {
   "cell_type": "code",
   "execution_count": 10,
   "metadata": {},
   "outputs": [
    {
     "data": {
      "text/html": [
       "<div>\n",
       "<style scoped>\n",
       "    .dataframe tbody tr th:only-of-type {\n",
       "        vertical-align: middle;\n",
       "    }\n",
       "\n",
       "    .dataframe tbody tr th {\n",
       "        vertical-align: top;\n",
       "    }\n",
       "\n",
       "    .dataframe thead th {\n",
       "        text-align: right;\n",
       "    }\n",
       "</style>\n",
       "<table border=\"1\" class=\"dataframe\">\n",
       "  <thead>\n",
       "    <tr style=\"text-align: right;\">\n",
       "      <th></th>\n",
       "      <th>Order Date</th>\n",
       "      <th>Product Price</th>\n",
       "      <th>Quantity</th>\n",
       "      <th>Total products</th>\n",
       "    </tr>\n",
       "  </thead>\n",
       "  <tbody>\n",
       "    <tr>\n",
       "      <th>0</th>\n",
       "      <td>03/08/2019 20:25</td>\n",
       "      <td>0.80</td>\n",
       "      <td>2</td>\n",
       "      <td>6</td>\n",
       "    </tr>\n",
       "    <tr>\n",
       "      <th>1</th>\n",
       "      <td>03/08/2019 20:25</td>\n",
       "      <td>12.95</td>\n",
       "      <td>1</td>\n",
       "      <td>6</td>\n",
       "    </tr>\n",
       "    <tr>\n",
       "      <th>2</th>\n",
       "      <td>03/08/2019 20:25</td>\n",
       "      <td>2.95</td>\n",
       "      <td>1</td>\n",
       "      <td>6</td>\n",
       "    </tr>\n",
       "    <tr>\n",
       "      <th>3</th>\n",
       "      <td>03/08/2019 20:25</td>\n",
       "      <td>3.95</td>\n",
       "      <td>1</td>\n",
       "      <td>6</td>\n",
       "    </tr>\n",
       "    <tr>\n",
       "      <th>4</th>\n",
       "      <td>03/08/2019 20:25</td>\n",
       "      <td>8.95</td>\n",
       "      <td>1</td>\n",
       "      <td>6</td>\n",
       "    </tr>\n",
       "    <tr>\n",
       "      <th>...</th>\n",
       "      <td>...</td>\n",
       "      <td>...</td>\n",
       "      <td>...</td>\n",
       "      <td>...</td>\n",
       "    </tr>\n",
       "    <tr>\n",
       "      <th>74813</th>\n",
       "      <td>18/05/2016 18:53</td>\n",
       "      <td>17.95</td>\n",
       "      <td>2</td>\n",
       "      <td>7</td>\n",
       "    </tr>\n",
       "    <tr>\n",
       "      <th>74814</th>\n",
       "      <td>14/05/2016 19:28</td>\n",
       "      <td>17.95</td>\n",
       "      <td>2</td>\n",
       "      <td>6</td>\n",
       "    </tr>\n",
       "    <tr>\n",
       "      <th>74815</th>\n",
       "      <td>10/05/2016 13:18</td>\n",
       "      <td>17.95</td>\n",
       "      <td>2</td>\n",
       "      <td>9</td>\n",
       "    </tr>\n",
       "    <tr>\n",
       "      <th>74816</th>\n",
       "      <td>07/04/2016 19:04</td>\n",
       "      <td>17.95</td>\n",
       "      <td>1</td>\n",
       "      <td>6</td>\n",
       "    </tr>\n",
       "    <tr>\n",
       "      <th>74817</th>\n",
       "      <td>02/10/2015 17:29</td>\n",
       "      <td>17.95</td>\n",
       "      <td>1</td>\n",
       "      <td>9</td>\n",
       "    </tr>\n",
       "  </tbody>\n",
       "</table>\n",
       "<p>74818 rows × 4 columns</p>\n",
       "</div>"
      ],
      "text/plain": [
       "             Order Date  Product Price  Quantity  Total products\n",
       "0      03/08/2019 20:25           0.80         2               6\n",
       "1      03/08/2019 20:25          12.95         1               6\n",
       "2      03/08/2019 20:25           2.95         1               6\n",
       "3      03/08/2019 20:25           3.95         1               6\n",
       "4      03/08/2019 20:25           8.95         1               6\n",
       "...                 ...            ...       ...             ...\n",
       "74813  18/05/2016 18:53          17.95         2               7\n",
       "74814  14/05/2016 19:28          17.95         2               6\n",
       "74815  10/05/2016 13:18          17.95         2               9\n",
       "74816  07/04/2016 19:04          17.95         1               6\n",
       "74817  02/10/2015 17:29          17.95         1               9\n",
       "\n",
       "[74818 rows x 4 columns]"
      ]
     },
     "execution_count": 10,
     "metadata": {},
     "output_type": "execute_result"
    }
   ],
   "source": [
    "#slect only needed columns\n",
    "data_port = data[[\"Order Date\", \"Product Price\", \"Quantity\", \"Total products\"]]\n",
    "\n",
    "# drop NaN-Cases\n",
    "data_port = data_port.dropna()\n",
    "data_port\n"
   ]
  },
  {
   "cell_type": "code",
   "execution_count": 13,
   "metadata": {},
   "outputs": [
    {
     "name": "stdout",
     "output_type": "stream",
     "text": [
      "<class 'pandas.core.frame.DataFrame'>\n",
      "DatetimeIndex: 74818 entries, 2019-03-08 20:25:00 to 2015-02-10 17:29:00\n",
      "Data columns (total 3 columns):\n",
      " #   Column          Non-Null Count  Dtype  \n",
      "---  ------          --------------  -----  \n",
      " 0   Product Price   74818 non-null  float64\n",
      " 1   Quantity        74818 non-null  int64  \n",
      " 2   Total products  74818 non-null  int64  \n",
      "dtypes: float64(1), int64(2)\n",
      "memory usage: 2.3 MB\n"
     ]
    }
   ],
   "source": [
    "#change to datetime\n",
    "data_port[\"Order Date\"] = pd.to_datetime(data_port[\"Order Date\"], format='%d.%m.%Y')\n",
    "data_port = data_port.set_index('Order Date')\n",
    "\n",
    "data_port.info()"
   ]
  },
  {
   "cell_type": "code",
   "execution_count": 14,
   "metadata": {},
   "outputs": [
    {
     "data": {
      "text/plain": [
       "Order Date\n",
       "2019-03-08 20:25:00    6\n",
       "2019-03-08 20:25:00    6\n",
       "2019-03-08 20:25:00    6\n",
       "2019-03-08 20:25:00    6\n",
       "2019-03-08 20:25:00    6\n",
       "                      ..\n",
       "2016-11-14 13:31:00    6\n",
       "2016-09-20 19:02:00    5\n",
       "2016-09-18 12:30:00    5\n",
       "2016-09-15 18:45:00    5\n",
       "2016-09-13 18:20:00    4\n",
       "Name: Total products, Length: 56839, dtype: int64"
      ]
     },
     "execution_count": 14,
     "metadata": {},
     "output_type": "execute_result"
    }
   ],
   "source": [
    "ts = data_port.groupby(\"Order Date\")[\"Total products\"]\n",
    "ts.head()"
   ]
  },
  {
   "cell_type": "code",
   "execution_count": 15,
   "metadata": {},
   "outputs": [
    {
     "data": {
      "text/plain": [
       "Order Date\n",
       "2019-03-08 20:25:00    6\n",
       "2019-03-08 20:25:00    6\n",
       "2019-03-08 20:25:00    6\n",
       "2019-03-08 20:25:00    6\n",
       "2019-03-08 20:25:00    6\n",
       "                      ..\n",
       "2016-05-18 18:53:00    7\n",
       "2016-05-14 19:28:00    6\n",
       "2016-10-05 13:18:00    9\n",
       "2016-07-04 19:04:00    6\n",
       "2015-02-10 17:29:00    9\n",
       "Name: Total products, Length: 56839, dtype: int64"
      ]
     },
     "execution_count": 15,
     "metadata": {},
     "output_type": "execute_result"
    }
   ],
   "source": [
    "ts.tail()"
   ]
  },
  {
   "cell_type": "code",
   "execution_count": 16,
   "metadata": {},
   "outputs": [
    {
     "data": {
      "text/plain": [
       "Order Date\n",
       "2015-01-09 14:42:00    AxesSubplot(0.125,0.2;0.775x0.68)\n",
       "2015-01-10 09:54:00    AxesSubplot(0.125,0.2;0.775x0.68)\n",
       "2015-01-10 10:02:00    AxesSubplot(0.125,0.2;0.775x0.68)\n",
       "2015-01-10 10:49:00    AxesSubplot(0.125,0.2;0.775x0.68)\n",
       "2015-01-10 15:19:00    AxesSubplot(0.125,0.2;0.775x0.68)\n",
       "                                     ...                \n",
       "2019-12-07 19:51:00    AxesSubplot(0.125,0.2;0.775x0.68)\n",
       "2019-12-07 19:54:00    AxesSubplot(0.125,0.2;0.775x0.68)\n",
       "2019-12-07 19:56:00    AxesSubplot(0.125,0.2;0.775x0.68)\n",
       "2019-12-07 21:13:00    AxesSubplot(0.125,0.2;0.775x0.68)\n",
       "2019-12-07 22:24:00    AxesSubplot(0.125,0.2;0.775x0.68)\n",
       "Name: Total products, Length: 13081, dtype: object"
      ]
     },
     "execution_count": 16,
     "metadata": {},
     "output_type": "execute_result"
    },
    {
     "data": {
      "image/png": "[encoded data removed]",
      "text/plain": [
       "<Figure size 432x288 with 1 Axes>"
      ]
     },
     "metadata": {
      "needs_background": "light"
     },
     "output_type": "display_data"
    }
   ],
   "source": [
    "ts.plot()"
   ]
  },
  {
   "cell_type": "code",
   "execution_count": null,
   "metadata": {},
   "outputs": [],
   "source": []
  },
  {
   "cell_type": "code",
   "execution_count": null,
   "metadata": {},
   "outputs": [],
   "source": []
  },
  {
   "cell_type": "markdown",
   "metadata": {},
   "source": [
    "## Quellen"
   ]
  },
  {
   "cell_type": "markdown",
   "metadata": {},
   "source": [
    "https://towardsdatascience.com/time-series-analysis-for-machine-learning-with-python-626bee0d0205"
   ]
  },
  {
   "cell_type": "markdown",
   "metadata": {},
   "source": []
  }
 ],
 "metadata": {
  "interpreter": {
   "hash": "517d773237ea771dad9ee6407384df5266337a519055e62126e2b30eabc33c2e"
  },
  "kernelspec": {
   "display_name": "Python 3.6.13 ('SeemsDancy')",
   "language": "python",
   "name": "python3"
  },
  "language_info": {
   "codemirror_mode": {
    "name": "ipython",
    "version": 3
   },
   "file_extension": ".py",
   "mimetype": "text/x-python",
   "name": "python",
   "nbconvert_exporter": "python",
   "pygments_lexer": "ipython3",
   "version": "3.6.13"
  },
  "orig_nbformat": 4
 },
 "nbformat": 4,
 "nbformat_minor": 2
}
